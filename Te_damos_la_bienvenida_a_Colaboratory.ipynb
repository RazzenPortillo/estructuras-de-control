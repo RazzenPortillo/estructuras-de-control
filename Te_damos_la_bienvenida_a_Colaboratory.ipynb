{
  "cells": [
    {
      "cell_type": "markdown",
      "metadata": {
        "id": "view-in-github",
        "colab_type": "text"
      },
      "source": [
        "<a href=\"https://colab.research.google.com/github/RazzenPortillo/estructuras-de-control/blob/master/Te_damos_la_bienvenida_a_Colaboratory.ipynb\" target=\"_parent\"><img src=\"https://colab.research.google.com/assets/colab-badge.svg\" alt=\"Open In Colab\"/></a>"
      ]
    },
    {
      "cell_type": "code",
      "source": [
        "nombre = \"RazzenPQ\"\n",
        "print(\"Bienvenido\", nombre) \n",
        "nombre = 19\n",
        "print(\"Tu edad es\", nombre)\n"
      ],
      "metadata": {
        "id": "0zPfqcT-k7R8",
        "outputId": "12eb4215-9b9d-4722-986e-2424bf24ff0e",
        "colab": {
          "base_uri": "https://localhost:8080/"
        }
      },
      "execution_count": 9,
      "outputs": [
        {
          "output_type": "stream",
          "name": "stdout",
          "text": [
            "Bienvenido Miguel\n",
            "Tu edad es 19\n"
          ]
        }
      ]
    },
    {
      "cell_type": "code",
      "source": [
        "nombre = \"RazzenPQ\"\n",
        "print(\"Tu nombre es : \", nombre, \"logitud de tu nombre: \", len(nombre), \"iniciales: \", nombre[0], nombre [5])"
      ],
      "metadata": {
        "id": "c-AfygTDouqy",
        "outputId": "4e3b2605-3edb-4adc-a707-46d0708f87e7",
        "colab": {
          "base_uri": "https://localhost:8080/"
        }
      },
      "execution_count": 11,
      "outputs": [
        {
          "output_type": "stream",
          "name": "stdout",
          "text": [
            "Tu nombre es :  RazzenPQ logitud de tu nombre:  8 iniciales:  R n\n"
          ]
        }
      ]
    }
  ],
  "metadata": {
    "colab": {
      "collapsed_sections": [],
      "name": "Te damos la bienvenida a Colaboratory",
      "toc_visible": true,
      "provenance": [],
      "include_colab_link": true
    },
    "kernelspec": {
      "display_name": "Python 3",
      "name": "python3"
    }
  },
  "nbformat": 4,
  "nbformat_minor": 0
}